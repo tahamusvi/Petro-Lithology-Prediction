{
 "cells": [
  {
   "cell_type": "code",
   "execution_count": 1,
   "metadata": {},
   "outputs": [],
   "source": [
    "import numpy as np\n",
    "import pandas as pd\n",
    "import matplotlib.pyplot as plt\n",
    "from sklearn import datasets\n",
    "from sklearn.model_selection import train_test_split\n",
    "from sklearn.svm import SVC\n",
    "from sklearn.multiclass import OneVsRestClassifier\n",
    "import seaborn as sns\n",
    "from sklearn.metrics import roc_curve, auc\n",
    "from sklearn.model_selection import train_test_split\n",
    "from sklearn.preprocessing import StandardScaler\n",
    "from sklearn.svm import SVC\n",
    "from sklearn.metrics import classification_report, confusion_matrix"
   ]
  },
  {
   "cell_type": "code",
   "execution_count": 2,
   "metadata": {},
   "outputs": [],
   "source": [
    "data = pd.read_csv(\"data_cleaned.csv\", header=0)\n",
    "data\n",
    "\n",
    "\n",
    "train = data.sample(n=900,random_state=74)\n",
    "test = data.drop(train.index)\n",
    "\n",
    "\n",
    "X = train.drop('litho', axis=1).values\n",
    "y = train['litho'].values.reshape(-1, 1)\n",
    "y = y.ravel()"
   ]
  },
  {
   "cell_type": "code",
   "execution_count": 3,
   "metadata": {},
   "outputs": [
    {
     "name": "stdout",
     "output_type": "stream",
     "text": [
      "[ 235.22135412   41.76109817  609.2389808    27.80749221   18.27718147\n",
      " 1077.91914915    8.4739084     2.5801015   655.20976893  200.12873983\n",
      "  315.64900358]\n"
     ]
    }
   ],
   "source": [
    "from sklearn.feature_selection import SelectKBest, f_regression\n",
    "df = data.copy()\n",
    "X = df.drop('litho', axis=1)\n",
    "y = df['litho']\n",
    "\n",
    "selector = SelectKBest(score_func=f_regression, k='all')\n",
    "selector.fit(X, y)\n",
    "\n",
    "scores = selector.scores_\n",
    "print(scores)\n"
   ]
  },
  {
   "cell_type": "code",
   "execution_count": 4,
   "metadata": {},
   "outputs": [
    {
     "name": "stdout",
     "output_type": "stream",
     "text": [
      "DEPTH        0.404836\n",
      "CALI         0.183386\n",
      "DT           0.580291\n",
      "NPHI         0.150493\n",
      "PHIE         0.122485\n",
      "RHOB        -0.687898\n",
      "SW          -0.083738\n",
      "litho        1.000000\n",
      "VCLC        -0.046319\n",
      "VDOL        -0.594283\n",
      "VOL_SHALE    0.378069\n",
      "VSAN .V/V    0.456355\n",
      "Name: litho, dtype: float64\n"
     ]
    }
   ],
   "source": [
    "correlation_matrix = df.corr()\n",
    "print(correlation_matrix['litho'])\n"
   ]
  }
 ],
 "metadata": {
  "kernelspec": {
   "display_name": "env",
   "language": "python",
   "name": "python3"
  },
  "language_info": {
   "codemirror_mode": {
    "name": "ipython",
    "version": 3
   },
   "file_extension": ".py",
   "mimetype": "text/x-python",
   "name": "python",
   "nbconvert_exporter": "python",
   "pygments_lexer": "ipython3",
   "version": "3.12.0"
  },
  "orig_nbformat": 4
 },
 "nbformat": 4,
 "nbformat_minor": 2
}
